{
 "cells": [
  {
   "cell_type": "markdown",
   "metadata": {
    "pycharm": {
     "name": "#%% md\n"
    }
   },
   "source": [
    "## 4-circle diffractometer\n",
    "\n",
    "Shamelessly cribbed from Pete Jemian's bluesky lesson 7\n",
    "\n",
    "https://github.com/BCDA-APS/use_bluesky/blob/master/lessons/lesson7.ipynb."
   ]
  },
  {
   "cell_type": "markdown",
   "metadata": {
    "pycharm": {
     "name": "#%% md\n"
    }
   },
   "source": [
    "#### Preparation\n",
    "Import the `gi` package before importing `hkl`. The `gi` package is installed automatically if `hklpy`\n",
    "is installed with `conda` from the `nsls2forge` channel. For example:\n",
    "```\n",
    "conda create -n hkl python=3.7\n",
    "conda activate hkl\n",
    "conda install hklpy -c nsls2forge\n",
    "python\n",
    ">>> import gi\n",
    ">>> +\n",
    "```"
   ]
  },
  {
   "cell_type": "code",
   "execution_count": null,
   "metadata": {},
   "outputs": [],
   "source": [
    "import gi\n",
    "gi.require_version(\"Hkl\", \"5.0\")"
   ]
  },
  {
   "cell_type": "code",
   "execution_count": null,
   "metadata": {
    "pycharm": {
     "name": "#%%\n"
    }
   },
   "outputs": [],
   "source": [
    "from hkl.diffract import E4CV\n",
    "from hkl.util import Lattice\n",
    "\n",
    "import bluesky.plans as bp\n",
    "import bluesky.plan_stubs as bps\n",
    "\n",
    "from ophyd import Component, Device, PseudoSingle, SoftPositioner"
   ]
  },
  {
   "cell_type": "code",
   "execution_count": null,
   "metadata": {
    "pycharm": {
     "name": "#%%\n"
    }
   },
   "outputs": [],
   "source": [
    "class FourCircleDiffractometer(E4CV):\n",
    "    h = Component(PseudoSingle, '',\n",
    "        labels=(\"hkl\", \"fourc\"), kind=\"hinted\")\n",
    "    k = Component(PseudoSingle, '',\n",
    "        labels=(\"hkl\", \"fourc\"), kind=\"hinted\")\n",
    "    l = Component(PseudoSingle, '',\n",
    "        labels=(\"hkl\", \"fourc\"), kind=\"hinted\")\n",
    "\n",
    "    omega = Component(SoftPositioner,\n",
    "        labels=(\"motor\", \"fourc\"), kind=\"hinted\")\n",
    "    chi =   Component(SoftPositioner,\n",
    "        labels=(\"motor\", \"fourc\"), kind=\"hinted\")\n",
    "    phi =   Component(SoftPositioner,\n",
    "        labels=(\"motor\", \"fourc\"), kind=\"hinted\")\n",
    "    tth =   Component(SoftPositioner,\n",
    "        labels=(\"motor\", \"fourc\"), kind=\"hinted\")\n",
    "\n",
    "    def __init__(self, *args, **kwargs):\n",
    "        \"\"\"\n",
    "        start the SoftPositioner objects with initial values\n",
    "\n",
    "        Since this diffractometer uses simulated motors,\n",
    "        prime the SoftPositioners (motors) with initial values.\n",
    "        Otherwise, with position == None, describe() and\n",
    "        other functions get confused.\n",
    "        \"\"\"\n",
    "        super().__init__(*args, **kwargs)\n",
    "\n",
    "        for axis_motor in self.real_positioners:\n",
    "            axis_motor.move(0)"
   ]
  },
  {
   "cell_type": "code",
   "execution_count": null,
   "metadata": {
    "pycharm": {
     "name": "#%%\n"
    }
   },
   "outputs": [],
   "source": [
    "fourc = FourCircleDiffractometer(prefix=\"\", name=\"fourc\")"
   ]
  },
  {
   "cell_type": "code",
   "execution_count": null,
   "metadata": {
    "pycharm": {
     "name": "#%%\n"
    }
   },
   "outputs": [],
   "source": [
    "print(fourc.omega.position)"
   ]
  },
  {
   "cell_type": "code",
   "execution_count": null,
   "metadata": {
    "pycharm": {
     "name": "#%%\n"
    }
   },
   "outputs": [],
   "source": [
    "fourc.omega.move(1)"
   ]
  },
  {
   "cell_type": "code",
   "execution_count": null,
   "metadata": {
    "pycharm": {
     "name": "#%%\n"
    }
   },
   "outputs": [],
   "source": [
    "fourc.omega.position"
   ]
  },
  {
   "cell_type": "markdown",
   "metadata": {
    "pycharm": {
     "name": "#%% md\n"
    }
   },
   "source": [
    "#### Operating Mode"
   ]
  },
  {
   "cell_type": "code",
   "execution_count": null,
   "metadata": {
    "pycharm": {
     "name": "#%%\n"
    }
   },
   "outputs": [],
   "source": [
    "fourc.calc.engine.mode"
   ]
  },
  {
   "cell_type": "code",
   "execution_count": null,
   "metadata": {
    "pycharm": {
     "name": "#%%\n"
    }
   },
   "outputs": [],
   "source": [
    "fourc.engine.modes\n"
   ]
  },
  {
   "cell_type": "code",
   "execution_count": null,
   "metadata": {
    "pycharm": {
     "name": "#%%\n"
    }
   },
   "outputs": [],
   "source": [
    "fourc.calc.engine.mode = \"constant_phi\"\n",
    "print(fourc.calc.engine.mode)"
   ]
  },
  {
   "cell_type": "code",
   "execution_count": null,
   "metadata": {
    "pycharm": {
     "name": "#%%\n"
    }
   },
   "outputs": [],
   "source": [
    "fourc.calc.engine.mode = \"bissector\"\n",
    "print(fourc.calc.engine.mode)"
   ]
  },
  {
   "cell_type": "markdown",
   "metadata": {
    "pycharm": {
     "name": "#%% md\n"
    }
   },
   "source": [
    "#### Wavelength"
   ]
  },
  {
   "cell_type": "code",
   "execution_count": null,
   "metadata": {
    "pycharm": {
     "name": "#%%\n"
    }
   },
   "outputs": [],
   "source": [
    "fourc.calc.wavelength\n"
   ]
  },
  {
   "cell_type": "code",
   "execution_count": null,
   "metadata": {
    "pycharm": {
     "name": "#%%\n"
    }
   },
   "outputs": [],
   "source": [
    "fourc.calc.wavelength = 1.62751693358\n"
   ]
  },
  {
   "cell_type": "markdown",
   "metadata": {
    "pycharm": {
     "name": "#%% md\n"
    }
   },
   "source": [
    "#### Sample"
   ]
  },
  {
   "cell_type": "code",
   "execution_count": null,
   "metadata": {
    "pycharm": {
     "name": "#%%\n"
    }
   },
   "outputs": [],
   "source": [
    "fourc.calc.sample"
   ]
  },
  {
   "cell_type": "code",
   "execution_count": null,
   "metadata": {
    "pycharm": {
     "name": "#%%\n"
    }
   },
   "outputs": [],
   "source": [
    "fourc.calc.new_sample('orthorhombic',\n",
    "    lattice=Lattice(\n",
    "        a=1, b=2, c=3,\n",
    "        alpha=90.0, beta=90.0, gamma=90.0))"
   ]
  },
  {
   "cell_type": "code",
   "execution_count": null,
   "metadata": {
    "pycharm": {
     "name": "#%%\n"
    }
   },
   "outputs": [],
   "source": [
    "fourc.calc._samples"
   ]
  },
  {
   "cell_type": "code",
   "execution_count": null,
   "metadata": {
    "pycharm": {
     "name": "#%%\n"
    }
   },
   "outputs": [],
   "source": [
    "fourc.calc.sample_name"
   ]
  },
  {
   "cell_type": "code",
   "execution_count": null,
   "metadata": {
    "pycharm": {
     "name": "#%%\n"
    }
   },
   "outputs": [],
   "source": [
    "fourc.calc.sample = \"main\"\n",
    "fourc.calc.sample.name"
   ]
  },
  {
   "cell_type": "code",
   "execution_count": null,
   "metadata": {
    "pycharm": {
     "name": "#%%\n"
    }
   },
   "outputs": [],
   "source": [
    "fourc.calc.new_sample(\n",
    "    \"EuPtIn4_eh1_ver\",\n",
    "    lattice=Lattice(\n",
    "        a=4.542,\n",
    "        b=16.995,\n",
    "        c=7.389,\n",
    "        alpha=90.0,\n",
    "        beta=90.0,\n",
    "        gamma=90.0\n",
    "    )\n",
    ")"
   ]
  },
  {
   "cell_type": "code",
   "execution_count": null,
   "metadata": {
    "pycharm": {
     "name": "#%%\n"
    }
   },
   "outputs": [],
   "source": [
    "fourc.calc.sample.U"
   ]
  },
  {
   "cell_type": "code",
   "execution_count": null,
   "metadata": {
    "pycharm": {
     "name": "#%%\n"
    }
   },
   "outputs": [],
   "source": [
    "fourc.calc.sample.UB"
   ]
  },
  {
   "cell_type": "markdown",
   "metadata": {
    "pycharm": {
     "name": "#%% md\n"
    }
   },
   "source": [
    "Set the U matrix"
   ]
  },
  {
   "cell_type": "code",
   "execution_count": null,
   "metadata": {
    "pycharm": {
     "name": "#%%\n"
    }
   },
   "outputs": [],
   "source": [
    "fourc.calc.sample.U = [\n",
    "    [1, 0, 0],\n",
    "    [0, 1, 0],\n",
    "    [0, 0, 1]\n",
    "]\n",
    "print(f\"[U]:\\n{fourc.calc.sample.U}\")\n",
    "print(f\"[UB]:\\n{fourc.calc.sample.UB}\")"
   ]
  },
  {
   "cell_type": "markdown",
   "metadata": {
    "pycharm": {
     "name": "#%% md\n"
    }
   },
   "source": [
    "The UB matrix can also be assigned a new value."
   ]
  },
  {
   "cell_type": "markdown",
   "metadata": {
    "pycharm": {
     "name": "#%% md\n"
    }
   },
   "source": [
    "#### Reflections\n",
    "A reflection associates a set of reciprocal-space axes (hkl) with a set of real-space motor positions. Following the method of Busing & Levy (Acta Cryst (1967) 22, pp 457-464), two reflections are used to calculate an orientation matix (UB matrix) which is used to convert between motor positions and hkl values.\n",
    "\n",
    "There are no reflections defined by default.\n",
    "\n",
    "Define a reflection by associating a known hkl reflection with a set of motor positions."
   ]
  },
  {
   "cell_type": "code",
   "execution_count": null,
   "metadata": {
    "pycharm": {
     "name": "#%%\n"
    }
   },
   "outputs": [],
   "source": [
    "rp1 = fourc.calc.Position(omega=22.31594, chi=89.1377, phi=0, tth=45.15857)\n",
    "r1 = fourc.calc.sample.add_reflection(0, 8, 0, position=rp1)"
   ]
  },
  {
   "cell_type": "markdown",
   "metadata": {},
   "source": [
    "Define a second reflection (that is not a multiple of the first reflection):"
   ]
  },
  {
   "cell_type": "code",
   "execution_count": null,
   "metadata": {},
   "outputs": [],
   "source": [
    "rp2 = fourc.calc.Position(omega=34.96232, chi=78.3139, phi=0, tth=71.8007)\n",
    "r2 = fourc.calc.sample.add_reflection(0, 12, 1, position=rp2)"
   ]
  },
  {
   "cell_type": "markdown",
   "metadata": {},
   "source": [
    "Calculate the UB matrix from these two reflections."
   ]
  },
  {
   "cell_type": "code",
   "execution_count": null,
   "metadata": {},
   "outputs": [],
   "source": [
    "fourc.calc.sample.compute_UB(r1, r2)\n",
    "print(fourc.calc.sample.UB)"
   ]
  }
 ],
 "metadata": {
  "kernelspec": {
   "display_name": "PyCharm (hkl-notebooks)",
   "language": "python",
   "name": "pycharm-a6a1a4ed"
  },
  "language_info": {
   "codemirror_mode": {
    "name": "ipython",
    "version": 3
   },
   "file_extension": ".py",
   "mimetype": "text/x-python",
   "name": "python",
   "nbconvert_exporter": "python",
   "pygments_lexer": "ipython3",
   "version": "3.7.10"
  }
 },
 "nbformat": 4,
 "nbformat_minor": 1
}
