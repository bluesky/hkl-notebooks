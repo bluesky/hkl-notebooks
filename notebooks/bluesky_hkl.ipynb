{
 "cells": [
  {
   "cell_type": "markdown",
   "source": [
    "## 4-circle diffractometer\n",
    "\n",
    "Shamelessly cribbed from https://github.com/BCDA-APS/use_bluesky/blob/master/lessons/lesson7.ipynb."
   ],
   "metadata": {
    "collapsed": false,
    "pycharm": {
     "name": "#%% md\n"
    }
   }
  },
  {
   "cell_type": "code",
   "execution_count": null,
   "metadata": {
    "collapsed": true
   },
   "outputs": [],
   "source": [
    "import gi\n",
    "gi.require_version(\"Hkl\", \"5.0\")"
   ]
  },
  {
   "cell_type": "code",
   "execution_count": null,
   "outputs": [],
   "source": [
    "from hkl.diffract import E4CV\n",
    "from hkl.util import Lattice\n",
    "\n",
    "import bluesky.plans as bp\n",
    "import bluesky.plan_stubs as bps\n",
    "\n",
    "from ophyd import Component, Device, PseudoSingle, SoftPositioner"
   ],
   "metadata": {
    "collapsed": false,
    "pycharm": {
     "name": "#%%\n"
    }
   }
  },
  {
   "cell_type": "code",
   "execution_count": null,
   "outputs": [],
   "source": [
    "class FourCircleDiffractometer(E4CV):\n",
    "    h = Component(PseudoSingle, '',\n",
    "        labels=(\"hkl\", \"fourc\"), kind=\"hinted\")\n",
    "    k = Component(PseudoSingle, '',\n",
    "        labels=(\"hkl\", \"fourc\"), kind=\"hinted\")\n",
    "    l = Component(PseudoSingle, '',\n",
    "        labels=(\"hkl\", \"fourc\"), kind=\"hinted\")\n",
    "\n",
    "    omega = Component(SoftPositioner,\n",
    "        labels=(\"motor\", \"fourc\"), kind=\"hinted\")\n",
    "    chi =   Component(SoftPositioner,\n",
    "        labels=(\"motor\", \"fourc\"), kind=\"hinted\")\n",
    "    phi =   Component(SoftPositioner,\n",
    "        labels=(\"motor\", \"fourc\"), kind=\"hinted\")\n",
    "    tth =   Component(SoftPositioner,\n",
    "        labels=(\"motor\", \"fourc\"), kind=\"hinted\")\n",
    "\n",
    "    def __init__(self, *args, **kwargs):\n",
    "        \"\"\"\n",
    "        start the SoftPositioner objects with initial values\n",
    "\n",
    "        Since this diffractometer uses simulated motors,\n",
    "        prime the SoftPositioners (motors) with initial values.\n",
    "        Otherwise, with position == None, describe() and\n",
    "        other functions get confused.\n",
    "        \"\"\"\n",
    "        super().__init__(*args, **kwargs)\n",
    "\n",
    "        for axis_motor in self.real_positioners:\n",
    "            axis_motor.move(0)"
   ],
   "metadata": {
    "collapsed": false,
    "pycharm": {
     "name": "#%%\n"
    }
   }
  },
  {
   "cell_type": "code",
   "execution_count": null,
   "outputs": [],
   "source": [
    "fourc = FourCircleDiffractometer(prefix=\"\", name=\"fourc\")"
   ],
   "metadata": {
    "collapsed": false,
    "pycharm": {
     "name": "#%%\n"
    }
   }
  },
  {
   "cell_type": "code",
   "execution_count": null,
   "outputs": [],
   "source": [
    "print(fourc.omega.position)"
   ],
   "metadata": {
    "collapsed": false,
    "pycharm": {
     "name": "#%%\n"
    }
   }
  },
  {
   "cell_type": "code",
   "execution_count": null,
   "outputs": [],
   "source": [
    "fourc.omega.move(1)"
   ],
   "metadata": {
    "collapsed": false,
    "pycharm": {
     "name": "#%%\n"
    }
   }
  },
  {
   "cell_type": "code",
   "execution_count": null,
   "outputs": [],
   "source": [
    "fourc.omega.position"
   ],
   "metadata": {
    "collapsed": false,
    "pycharm": {
     "name": "#%%\n"
    }
   }
  },
  {
   "cell_type": "markdown",
   "source": [
    "#### Operating Mode"
   ],
   "metadata": {
    "collapsed": false,
    "pycharm": {
     "name": "#%% md\n"
    }
   }
  },
  {
   "cell_type": "code",
   "execution_count": null,
   "outputs": [],
   "source": [
    "fourc.calc.engine.mode"
   ],
   "metadata": {
    "collapsed": false,
    "pycharm": {
     "name": "#%%\n"
    }
   }
  },
  {
   "cell_type": "code",
   "execution_count": null,
   "outputs": [],
   "source": [
    "fourc.engine.modes\n"
   ],
   "metadata": {
    "collapsed": false,
    "pycharm": {
     "name": "#%%\n"
    }
   }
  },
  {
   "cell_type": "code",
   "execution_count": null,
   "outputs": [],
   "source": [
    "fourc.calc.engine.mode = \"constant_phi\"\n",
    "print(fourc.calc.engine.mode)"
   ],
   "metadata": {
    "collapsed": false,
    "pycharm": {
     "name": "#%%\n"
    }
   }
  },
  {
   "cell_type": "code",
   "execution_count": null,
   "outputs": [],
   "source": [
    "fourc.calc.engine.mode = \"bissector\"\n",
    "print(fourc.calc.engine.mode)"
   ],
   "metadata": {
    "collapsed": false,
    "pycharm": {
     "name": "#%%\n"
    }
   }
  },
  {
   "cell_type": "markdown",
   "source": [
    "#### Wavelength"
   ],
   "metadata": {
    "collapsed": false,
    "pycharm": {
     "name": "#%% md\n"
    }
   }
  },
  {
   "cell_type": "code",
   "execution_count": null,
   "outputs": [],
   "source": [
    "fourc.calc.wavelength\n"
   ],
   "metadata": {
    "collapsed": false,
    "pycharm": {
     "name": "#%%\n"
    }
   }
  },
  {
   "cell_type": "code",
   "execution_count": null,
   "outputs": [],
   "source": [
    "fourc.calc.wavelength = 1.62751693358\n"
   ],
   "metadata": {
    "collapsed": false,
    "pycharm": {
     "name": "#%%\n"
    }
   }
  },
  {
   "cell_type": "markdown",
   "source": [
    "#### Sample"
   ],
   "metadata": {
    "collapsed": false,
    "pycharm": {
     "name": "#%% md\n"
    }
   }
  },
  {
   "cell_type": "code",
   "execution_count": null,
   "outputs": [],
   "source": [
    "fourc.calc.sample"
   ],
   "metadata": {
    "collapsed": false,
    "pycharm": {
     "name": "#%%\n"
    }
   }
  },
  {
   "cell_type": "code",
   "execution_count": null,
   "outputs": [],
   "source": [
    "fourc.calc.new_sample('orthorhombic',\n",
    "    lattice=Lattice(\n",
    "        a=1, b=2, c=3,\n",
    "        alpha=90.0, beta=90.0, gamma=90.0))"
   ],
   "metadata": {
    "collapsed": false,
    "pycharm": {
     "name": "#%%\n"
    }
   }
  },
  {
   "cell_type": "code",
   "execution_count": null,
   "outputs": [],
   "source": [
    "fourc.calc._samples"
   ],
   "metadata": {
    "collapsed": false,
    "pycharm": {
     "name": "#%%\n"
    }
   }
  },
  {
   "cell_type": "code",
   "execution_count": null,
   "outputs": [],
   "source": [
    "fourc.calc.sample_name"
   ],
   "metadata": {
    "collapsed": false,
    "pycharm": {
     "name": "#%%\n"
    }
   }
  },
  {
   "cell_type": "code",
   "execution_count": null,
   "outputs": [],
   "source": [],
   "metadata": {
    "collapsed": false,
    "pycharm": {
     "name": "#%%\n"
    }
   }
  }
 ],
 "metadata": {
  "kernelspec": {
   "name": "pycharm-a6a1a4ed",
   "language": "python",
   "display_name": "PyCharm (hkl-notebooks)"
  },
  "language_info": {
   "codemirror_mode": {
    "name": "ipython",
    "version": 2
   },
   "file_extension": ".py",
   "mimetype": "text/x-python",
   "name": "python",
   "nbconvert_exporter": "python",
   "pygments_lexer": "ipython2",
   "version": "2.7.6"
  }
 },
 "nbformat": 4,
 "nbformat_minor": 0
}